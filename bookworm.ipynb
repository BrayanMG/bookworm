{
 "cells": [
  {
   "cell_type": "markdown",
   "metadata": {},
   "source": [
    "# Bookworm Notebook"
   ]
  },
  {
   "cell_type": "markdown",
   "metadata": {},
   "source": [
    "## Import Statements"
   ]
  },
  {
   "cell_type": "code",
   "execution_count": 33,
   "metadata": {},
   "outputs": [],
   "source": [
    "import pandas as pd\n",
    "import json"
   ]
  },
  {
   "cell_type": "markdown",
   "metadata": {},
   "source": [
    "## Defining Constants"
   ]
  },
  {
   "cell_type": "code",
   "execution_count": 34,
   "metadata": {},
   "outputs": [],
   "source": [
    "CONFIG_PATH = \"config.json\"\n",
    "ORDERED_COL_NAMES = [\"Account\", \"Date\", \"Category\", \"Tags\", \"Cost\", \"Description\"]\n",
    "\n",
    "MONTH = \"august\"\n",
    "\n",
    "WF_CHECKING_CSV_PATH = \"data/\" + MONTH + \"/input/wf-checking.csv\"\n",
    "WF_SAVINGS_CSV_PATH = \"data/\" + MONTH + \"/input/wf-savings.csv\"\n",
    "\n",
    "AMEX_GOLD_CSV_PATH = \"data/\" + MONTH + \"/input/amex-gold.csv\"\n",
    "AMEX_BLUE_CSV_PATH = \"data/\" + MONTH + \"/input/amex-blue.csv\"\n",
    "\n",
    "PREPROCESSED_TRANSACTIONS_CSV_PATH = \"data/\" + MONTH + \"/output/notebook-preprocessed-transactions.csv\"\n",
    "PROCESSED_TRANSACTIONS_CSV_PATH = \"data/\" + MONTH + \"/transactions.csv\"\n",
    "\n",
    "SUMMARY_TXT_FILE_PATH = \"data/\" + MONTH + \"/output/notebook-summary.txt\""
   ]
  },
  {
   "cell_type": "markdown",
   "metadata": {},
   "source": [
    "## Reading Configuration"
   ]
  },
  {
   "cell_type": "code",
   "execution_count": 35,
   "metadata": {},
   "outputs": [],
   "source": [
    "# reading configuration from a json file\n",
    "with open(CONFIG_PATH, \"r\") as file:\n",
    "    config = json.load(file)\n",
    "\n",
    "CATEGORIES = config[\"Categories\"]\n",
    "TAGS = config[\"Tags\"]\n",
    "PRECENDENCES = config[\"Precendences\"]"
   ]
  },
  {
   "cell_type": "markdown",
   "metadata": {},
   "source": [
    "# Preprocess"
   ]
  },
  {
   "cell_type": "markdown",
   "metadata": {},
   "source": [
    "## Normalizing Data"
   ]
  },
  {
   "cell_type": "code",
   "execution_count": 36,
   "metadata": {},
   "outputs": [],
   "source": [
    "def normalize_wells_fargo_data(account_name, csv_file_path):\n",
    "    WF_COL_INDEXES = [0, 1, 4]\n",
    "    WF_COL_NAMES = [\"Date\", \"Cost\", \"Description\"]\n",
    "\n",
    "    wf_data = pd.read_csv(\n",
    "        csv_file_path,\n",
    "        header = None,\n",
    "        usecols = WF_COL_INDEXES,\n",
    "        names = WF_COL_NAMES\n",
    "    )\n",
    "\n",
    "    wf_data[\"Account\"] = account_name\n",
    "    wf_data[\"Category\"] = \"\"\n",
    "    wf_data[\"Tags\"] = \"\"\n",
    "    wf_data[\"Cost\"] = wf_data[\"Cost\"] * -1\n",
    "\n",
    "    return wf_data[ORDERED_COL_NAMES]"
   ]
  },
  {
   "cell_type": "code",
   "execution_count": 37,
   "metadata": {},
   "outputs": [],
   "source": [
    "def normalize_amex_data(account_name, csv_file_path):\n",
    "    amex_data = pd.read_csv(csv_file_path)\n",
    "\n",
    "    amex_data.rename(\n",
    "        columns = {\"Amount\": \"Cost\"},\n",
    "        inplace = True\n",
    "    )\n",
    "\n",
    "    amex_data[\"Account\"] = account_name\n",
    "    amex_data[\"Category\"] = \"\"\n",
    "    amex_data[\"Tags\"] = \"\"\n",
    "\n",
    "    return amex_data[ORDERED_COL_NAMES]"
   ]
  },
  {
   "cell_type": "code",
   "execution_count": 38,
   "metadata": {},
   "outputs": [],
   "source": [
    "def normalize_chase_data():\n",
    "    CHASE_CSV_PATH = \"data/\" + MONTH + \"/input/chase.csv\"\n",
    "    CHASE_ACCOUNT_NAME = \"Chase\"\n",
    "\n",
    "    CHASE_COL_INDEXES = [0, 2, 5]\n",
    "    CHASE_COL_NAMES = [\"Date\", \"Description\", \"Cost\"]\n",
    "\n",
    "    chase_data = pd.read_csv(\n",
    "        CHASE_CSV_PATH,\n",
    "        usecols = CHASE_COL_INDEXES\n",
    "    )\n",
    "\n",
    "    chase_data.columns = CHASE_COL_NAMES\n",
    "\n",
    "    chase_data[\"Account\"] = CHASE_ACCOUNT_NAME\n",
    "    chase_data[\"Category\"] = \"\"\n",
    "    chase_data[\"Tags\"] = \"\"\n",
    "    chase_data[\"Cost\"] = chase_data[\"Cost\"] * -1\n",
    "\n",
    "    return chase_data[ORDERED_COL_NAMES]"
   ]
  },
  {
   "cell_type": "code",
   "execution_count": 39,
   "metadata": {},
   "outputs": [],
   "source": [
    "def normalize_apple_data():\n",
    "    APPLE_CSV_PATH =  \"data/\" + MONTH + \"/input/apple.csv\"\n",
    "    APPLE_ACCOUNT_NAME = \"Apple\"\n",
    "\n",
    "    APPLE_COL_INDEXES = [0, 2, 6]\n",
    "    APPLE_COL_NAMES = [\"Date\", \"Description\", \"Cost\"]\n",
    "\n",
    "    apple_data = pd.read_csv(\n",
    "        APPLE_CSV_PATH,\n",
    "        usecols = APPLE_COL_INDEXES\n",
    "    )\n",
    "\n",
    "    apple_data.columns = APPLE_COL_NAMES\n",
    "\n",
    "    apple_data[\"Account\"] = APPLE_ACCOUNT_NAME\n",
    "    apple_data[\"Category\"] = \"\"\n",
    "    apple_data[\"Tags\"] = \"\"\n",
    "\n",
    "    return apple_data[ORDERED_COL_NAMES]"
   ]
  },
  {
   "cell_type": "code",
   "execution_count": 40,
   "metadata": {},
   "outputs": [],
   "source": [
    "def normalize_discover_data():\n",
    "    DISCOVER_CSV_PATH  = \"data/\" + MONTH + \"/input/discover.csv\"\n",
    "    DISCOVER_ACCOUNT_NAME = \"Discover\"\n",
    "\n",
    "    DISCOVER_COL_INDEXES = [0, 2, 3]\n",
    "    DISCOVER_COL_NAMES = [\"Date\", \"Description\", \"Cost\"]\n",
    "\n",
    "    discover_data = pd.read_csv(\n",
    "        DISCOVER_CSV_PATH,\n",
    "        usecols = DISCOVER_COL_INDEXES\n",
    "    )\n",
    "\n",
    "    discover_data.columns = DISCOVER_COL_NAMES\n",
    "\n",
    "    discover_data[\"Account\"] = DISCOVER_ACCOUNT_NAME\n",
    "    discover_data[\"Category\"] = \"\"\n",
    "    discover_data[\"Tags\"] = \"\"\n",
    "\n",
    "    return discover_data[ORDERED_COL_NAMES]"
   ]
  },
  {
   "cell_type": "code",
   "execution_count": 41,
   "metadata": {},
   "outputs": [],
   "source": [
    "def normalize_data():\n",
    "    checking = normalize_wells_fargo_data(\"Wells Fargo Checking\", WF_CHECKING_CSV_PATH)\n",
    "    savings = normalize_wells_fargo_data(\"Wells Fargo Savings\", WF_SAVINGS_CSV_PATH)\n",
    "\n",
    "    amex_gold = normalize_amex_data(\"Amex Gold\", AMEX_GOLD_CSV_PATH)\n",
    "    amex_blue = normalize_amex_data(\"Amex Blue\", AMEX_BLUE_CSV_PATH)\n",
    "\n",
    "    chase = normalize_chase_data()\n",
    "    apple = normalize_apple_data()\n",
    "    discover = normalize_discover_data()\n",
    "\n",
    "    return pd.concat([checking, savings, amex_gold, amex_blue, chase, apple, discover], ignore_index=True)"
   ]
  },
  {
   "cell_type": "markdown",
   "metadata": {},
   "source": [
    "## Tagging Transactions"
   ]
  },
  {
   "cell_type": "code",
   "execution_count": 42,
   "metadata": {},
   "outputs": [],
   "source": [
    "def assign_tags(row, col, categories):\n",
    "    tags = []\n",
    "\n",
    "    for category, keywords in categories.items():\n",
    "        if any(keyword in row[col] for keyword in keywords):\n",
    "            tags.append(category)\n",
    "\n",
    "    return \";\".join(tags)"
   ]
  },
  {
   "cell_type": "markdown",
   "metadata": {},
   "source": [
    "## Main Logic"
   ]
  },
  {
   "cell_type": "code",
   "execution_count": 43,
   "metadata": {},
   "outputs": [],
   "source": [
    "def preprocess_transactions():\n",
    "    # normalizing data\n",
    "    preprocessed_transactions = normalize_data()\n",
    "\n",
    "    # convert all strings to uppercase\n",
    "    preprocessed_transactions = preprocessed_transactions.applymap(lambda value: value.upper() if isinstance(value, str) else value)\n",
    "\n",
    "    # assigning tags\n",
    "    preprocessed_transactions[\"Tags\"] = preprocessed_transactions.apply(lambda row: assign_tags(row, \"Description\", TAGS), axis=1)\n",
    "    preprocessed_transactions[\"Category\"] = preprocessed_transactions.apply(lambda row: assign_tags(row, \"Tags\", CATEGORIES), axis=1)\n",
    "\n",
    "    # replacing empty categories w/ misc\n",
    "    preprocessed_transactions[\"Category\"] = preprocessed_transactions[\"Category\"].replace(\"\", \"Misc\")\n",
    "\n",
    "    # saving preprocessed data\n",
    "    preprocessed_transactions.to_csv(PREPROCESSED_TRANSACTIONS_CSV_PATH, index=False)\n",
    "\n",
    "preprocess_transactions()"
   ]
  },
  {
   "cell_type": "markdown",
   "metadata": {},
   "source": [
    "# Summarize"
   ]
  },
  {
   "cell_type": "markdown",
   "metadata": {},
   "source": [
    "## Creating Tag Costs Data"
   ]
  },
  {
   "cell_type": "code",
   "execution_count": 44,
   "metadata": {},
   "outputs": [],
   "source": [
    "def reduce_tags(tags):\n",
    "    if pd.isna(tags) or tags == \"\":\n",
    "        return \"\"\n",
    "    \n",
    "    tag_list = tags.split(\";\")\n",
    "    \n",
    "    tag_precedence = { tag: PRECENDENCES.get(tag, float(\"inf\")) for tag in tag_list }\n",
    "\n",
    "    selected_tag = max(tag_precedence, key = tag_precedence.get)\n",
    "\n",
    "    return selected_tag"
   ]
  },
  {
   "cell_type": "code",
   "execution_count": 45,
   "metadata": {},
   "outputs": [],
   "source": [
    "def create_tag_costs(transactions):\n",
    "    transactions[\"Tags\"] = transactions[\"Tags\"].apply(reduce_tags)\n",
    "\n",
    "    tag_costs = transactions.groupby([\"Category\", \"Tags\"])[\"Cost\"].sum().reset_index()\n",
    "    tag_costs.columns = [\"Category\", \"Tag\", \"Total Cost\"]\n",
    "\n",
    "    return tag_costs.sort_values(by = \"Total Cost\", ascending = False)"
   ]
  },
  {
   "cell_type": "markdown",
   "metadata": {},
   "source": [
    "## Formatting Output"
   ]
  },
  {
   "cell_type": "code",
   "execution_count": 46,
   "metadata": {},
   "outputs": [],
   "source": [
    "SEPARATOR = \"-\" * 33\n",
    "\n",
    "def format_currency(num):\n",
    "    num_rounded = round(num, 2)\n",
    "    return f\"{num_rounded:.2f}\"\n",
    "\n",
    "def create_tags_summary(tag_costs, category):\n",
    "    summary_text = \"\"\n",
    "\n",
    "    for _, row in tag_costs[tag_costs[\"Category\"] == category].iterrows():\n",
    "        tag = row[\"Tag\"]\n",
    "        cost = row[\"Total Cost\"]\n",
    "\n",
    "        summary_text += f\"{tag:<20} : {format_currency(cost):>10}\\n\"\n",
    "\n",
    "    return summary_text\n",
    "\n",
    "def create_needs_summary(total_needs, needs_budget_amount, tag_costs):\n",
    "    needs_difference = needs_budget_amount - total_needs\n",
    "\n",
    "    summary_text = f\"\\n{'NEEDS':<20} : {format_currency(total_needs):>10}\"\n",
    "    summary_text += f\"\\n{'EXPECTED NEEDS':<20} : {format_currency(needs_budget_amount):>10}\\n\"\n",
    "\n",
    "    needs_over_under = \"under\" if needs_difference >= 0 else \"over\"\n",
    "    summary_text += f\"\\nAmount {needs_over_under} by {format_currency(needs_difference)}\\n\\n\"\n",
    "\n",
    "    summary_text += create_tags_summary(tag_costs, \"Needs\")\n",
    "    \n",
    "    summary_text += f\"\\n{SEPARATOR}\\n\"\n",
    "\n",
    "    return summary_text\n",
    "\n",
    "def create_wants_summary(total_wants, wants_budget_amount, tag_costs):\n",
    "    wants_difference = wants_budget_amount - total_wants\n",
    "\n",
    "    summary_text = f\"\\n{'WANTS':<20} : {format_currency(total_wants):>10}\"\n",
    "    summary_text += f\"\\n{'EXPECTED WANTS':<20} : {format_currency(wants_budget_amount):>10}\\n\"\n",
    "    \n",
    "    wants_over_under = \"under\" if wants_difference >= 0 else \"over\"\n",
    "    summary_text += f\"\\nAmount {wants_over_under} by {format_currency(wants_difference)}\\n\\n\"\n",
    "\n",
    "    summary_text += create_tags_summary(tag_costs, \"Wants\")\n",
    "\n",
    "    summary_text += f\"\\n{SEPARATOR}\\n\"\n",
    "\n",
    "    return summary_text\n",
    "\n",
    "def create_savings_summary(total_savings, savings_budget_amount, tag_costs):\n",
    "    savings_difference = savings_budget_amount - total_savings\n",
    "\n",
    "    summary_text = f\"\\n{'SAVINGS':<20} : {format_currency(total_savings):>10}\"\n",
    "    summary_text += f\"\\n{'EXPECTED SAVINGS':<20} : {format_currency(savings_budget_amount):>10}\\n\"\n",
    "    \n",
    "    savings_over_under = \"under\" if savings_difference >= 0 else \"over\"\n",
    "    summary_text += f\"\\nAmount {savings_over_under} by {format_currency(savings_difference)}\\n\\n\"\n",
    "\n",
    "    summary_text += create_tags_summary(tag_costs, \"Savings\")\n",
    "    summary_text += f\"\\n{SEPARATOR}\\n\"\n",
    "\n",
    "    return summary_text\n",
    "\n",
    "def create_summary(transactions):\n",
    "    # getting costs by category\n",
    "    total_costs = transactions.groupby(\"Category\")[\"Cost\"].sum().reset_index()\n",
    "    total_costs.columns = [\"Category\", \"Total Cost\"]\n",
    "\n",
    "    # getting the total income made for this month\n",
    "    total_income = total_costs[total_costs[\"Category\"] == \"Income\"][\"Total Cost\"].sum() * -1\n",
    "    # creating summary text\n",
    "    summary_text = f\"\\n{MONTH.upper()} EXPENSES OVERVIEW\\n\\n{SEPARATOR}\\n\"\n",
    "    # adding income to summary\n",
    "    summary_text += f\"INCOME: {format_currency(total_income)}\\n{SEPARATOR}\\n\"\n",
    "\n",
    "    # getting costs by tag\n",
    "    tag_costs = create_tag_costs(transactions[transactions[\"Category\"] != \"Income\"].copy())\n",
    "\n",
    "    # creating summary for needs\n",
    "    total_needs = total_costs[total_costs[\"Category\"] == \"Needs\"][\"Total Cost\"].sum()\n",
    "    needs_budget_amount = total_income * .5\n",
    "    summary_text += create_needs_summary(total_needs, needs_budget_amount, tag_costs)\n",
    "\n",
    "    # creating summary for wants\n",
    "    total_wants = total_costs[total_costs[\"Category\"] == \"Wants\"][\"Total Cost\"].sum()\n",
    "    wants_budget_amount = total_income * .3\n",
    "    summary_text += create_wants_summary(total_wants, wants_budget_amount, tag_costs)\n",
    "    \n",
    "    # creating summary for savings\n",
    "    total_savings = total_costs[total_costs[\"Category\"] == \"Savings\"][\"Total Cost\"].sum()\n",
    "    savings_budget_amount = total_income * .2\n",
    "    summary_text += create_savings_summary(total_savings, savings_budget_amount, tag_costs)\n",
    "\n",
    "    return summary_text"
   ]
  },
  {
   "cell_type": "markdown",
   "metadata": {},
   "source": [
    "## Main Logic"
   ]
  },
  {
   "cell_type": "code",
   "execution_count": 47,
   "metadata": {},
   "outputs": [],
   "source": [
    "def generate_expenses_summary():\n",
    "    # manually processed data:\n",
    "    #   updated categories + added tags\n",
    "    #   removed rows creating 0 sums like transfers\n",
    "    #   added rows for savings\n",
    "    transactions = pd.read_csv(PROCESSED_TRANSACTIONS_CSV_PATH)\n",
    "\n",
    "    # replacing empty tags w/ misc\n",
    "    transactions[\"Tags\"] = transactions[\"Tags\"].replace(\"\", \"Misc\")\n",
    "\n",
    "    # create summarized data\n",
    "    summary_txt = create_summary(transactions)\n",
    "\n",
    "    # saving summarized data\n",
    "    with open(SUMMARY_TXT_FILE_PATH, \"w\") as file:\n",
    "        file.write(summary_txt)\n",
    "    \n",
    "generate_expenses_summary()"
   ]
  },
  {
   "cell_type": "markdown",
   "metadata": {},
   "source": [
    "## Explore Transaction Data"
   ]
  },
  {
   "cell_type": "code",
   "execution_count": 48,
   "metadata": {},
   "outputs": [
    {
     "data": {
      "text/plain": [
       "150.09"
      ]
     },
     "execution_count": 48,
     "metadata": {},
     "output_type": "execute_result"
    }
   ],
   "source": [
    "transactions = pd.read_csv(PROCESSED_TRANSACTIONS_CSV_PATH)\n",
    "\n",
    "transactions[transactions[\"Description\"].str.contains(\"XBOX\")][\"Cost\"].sum()"
   ]
  }
 ],
 "metadata": {
  "kernelspec": {
   "display_name": "Python 3",
   "language": "python",
   "name": "python3"
  },
  "language_info": {
   "codemirror_mode": {
    "name": "ipython",
    "version": 3
   },
   "file_extension": ".py",
   "mimetype": "text/x-python",
   "name": "python",
   "nbconvert_exporter": "python",
   "pygments_lexer": "ipython3",
   "version": "3.9.6"
  }
 },
 "nbformat": 4,
 "nbformat_minor": 2
}
